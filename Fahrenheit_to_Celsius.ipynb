{
  "nbformat": 4,
  "nbformat_minor": 0,
  "metadata": {
    "colab": {
      "name": "Fahrenheit_to_Celsius.ipynb",
      "version": "0.3.2",
      "provenance": [],
      "collapsed_sections": [],
      "include_colab_link": true
    },
    "kernelspec": {
      "name": "python3",
      "display_name": "Python 3"
    }
  },
  "cells": [
    {
      "cell_type": "markdown",
      "metadata": {
        "id": "view-in-github",
        "colab_type": "text"
      },
      "source": [
        "<a href=\"https://colab.research.google.com/github/soumennandi/ML/blob/master/Fahrenheit_to_Celsius.ipynb\" target=\"_parent\"><img src=\"https://colab.research.google.com/assets/colab-badge.svg\" alt=\"Open In Colab\"/></a>"
      ]
    },
    {
      "cell_type": "markdown",
      "metadata": {
        "id": "x6IekJ8evPWw",
        "colab_type": "text"
      },
      "source": [
        "# My First Model\n",
        "##********Fahrenheit to Celsius********"
      ]
    },
    {
      "cell_type": "code",
      "metadata": {
        "id": "yPT00z2Yy8q8",
        "colab_type": "code",
        "outputId": "2cb3a422-ea92-4131-8793-80fe1b7f2ea4",
        "colab": {
          "base_uri": "https://localhost:8080/",
          "height": 337
        }
      },
      "source": [
        "import numpy as np\n",
        "import tensorflow as tf\n",
        "import matplotlib.pyplot as plt\n",
        "\n",
        "tf.logging.set_verbosity(tf.logging.ERROR)\n",
        "\n",
        "\n",
        "fahrenheit = np.array([-40, 14, 32, 46, 59, 72, 100])\n",
        "print('Fahrenheit shape= {}'.format(fahrenheit.shape))\n",
        "\n",
        "celsius = np.array([-40.0, -10.0, 0.0, 7.78, 15.0, 22.22, 37.78]) \n",
        "print('Celsius shape= {}'.format(celsius.shape))\n",
        "\n",
        "l0 = tf.keras.layers.Dense(units=1, input_shape=[1])\n",
        "\n",
        "model = tf.keras.Sequential([l0])\n",
        "\n",
        "model.compile(loss=\"mean_squared_error\", optimizer=tf.keras.optimizers.Adam(0.1))\n",
        "\n",
        "history = model.fit(fahrenheit, celsius , epochs=500, verbose=False)\n",
        "\n",
        "plt.xlabel(\"Epoch Number\")\n",
        "plt.ylabel(\"Loss Magnitude\")\n",
        "plt.plot(history.history['loss'])\n",
        "\n",
        "print('{} Fahrenheit = {} celsius'.format(50, (model.predict([100.0]))[0][0]))"
      ],
      "execution_count": 0,
      "outputs": [
        {
          "output_type": "stream",
          "text": [
            "Fahrenheit shape= (7,)\n",
            "Celsius shape= (7,)\n",
            "50 Fahrenheit = 37.41969680786133 celsius\n"
          ],
          "name": "stdout"
        },
        {
          "output_type": "display_data",
          "data": {
            "image/png": "[encoded data removed]",
            "text/plain": [
              "<Figure size 432x288 with 1 Axes>"
            ]
          },
          "metadata": {
            "tags": []
          }
        }
      ]
    },
    {
      "cell_type": "markdown",
      "metadata": {
        "id": "Aj88urF6zi47",
        "colab_type": "text"
      },
      "source": [
        "\n",
        "\n",
        "###Test the model\n"
      ]
    },
    {
      "cell_type": "code",
      "metadata": {
        "id": "x0-2MWqwzg09",
        "colab_type": "code",
        "outputId": "5454a56b-292d-42cc-dadc-9d385bae71d5",
        "colab": {
          "base_uri": "https://localhost:8080/",
          "height": 53
        }
      },
      "source": [
        "temp = input(\"Enter Fahrenheit Temperature: \")\n",
        "temp = float(temp)\n",
        "print('{} Fahrenheit = {} celsius'.format(temp, (model.predict([temp]))[0][0]))"
      ],
      "execution_count": 0,
      "outputs": [
        {
          "output_type": "stream",
          "text": [
            "Enter Fahrenheit Temperature: 59\n",
            "59.0 Fahrenheit = 15.482751846313477 celsius\n"
          ],
          "name": "stdout"
        }
      ]
    }
  ]
}